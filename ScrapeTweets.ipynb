{
 "cells": [
  {
   "cell_type": "markdown",
   "metadata": {},
   "source": [
    "# CSC 210 Project V1\n",
    "## 1. Scrape tweets, create db"
   ]
  },
  {
   "cell_type": "code",
   "execution_count": 18,
   "metadata": {},
   "outputs": [
    {
     "output_type": "stream",
     "name": "stdout",
     "text": [
      "Created GOPChairwoman_contweets.json \n",
      "\n",
      "Created SteveGuest_contweets.json \n",
      "\n",
      "Created AlexMarlow_contweets.json \n",
      "\n",
      "Created TianaTheFirst_contweets.json \n",
      "\n"
     ]
    }
   ],
   "source": [
    "### This script takes \n",
    "import keys\n",
    "import json\n",
    "import tweepy\n",
    "import pandas as pd\n",
    "from sentiment import *\n",
    "\n",
    "def users_tweets(user):\n",
    "    tweets_frame = get_tweets(user)\n",
    "    counter = 30\n",
    "    while counter != 0:\n",
    "        id = tweets_frame.iloc[-1][\"Tweet_ID\"]\n",
    "        tweets_frame = tweets_frame.append(get_tweets(user, id))\n",
    "        counter -= 1\n",
    "    tweets_frame.reset_index(inplace=True, drop=True)\n",
    "    return tweets_frame\n",
    "\n",
    "def save_tweets(user_list, polarity):\n",
    "    for user in user_list:\n",
    "        tweets_frame = users_tweets(user)\n",
    "        if polarity == \"lib\":\n",
    "            tweets_frame.to_json(path_or_buf=f\"./ScrapedTweets/Libs/{user}_libtweets.json\", orient=\"records\")\n",
    "            print(f\"Created {user}_libtweets.json\")\n",
    "        else: \n",
    "            tweets_frame.to_json(path_or_buf=f\"./ScrapedTweets/Cons/{user}_contweets.json\", orient=\"records\", force_ascii=True)\n",
    "            #tweets_frame.to_csv(path_or_buf=f\"./ScrapedTweets/Cons/{user}_scrapedtweets.csv\")\n",
    "            print(f\"Created {user}_contweets.json \\n\")\n",
    "      \n",
    "\n",
    "def main():\n",
    "    user_list = [\n",
    "#        \"benshapiro\", \n",
    "#        \"RandPaul\", \n",
    "#        \"TPUSA\", \n",
    "#        \"EricTrump\", \n",
    "#        \"QuinHillyer\", \n",
    "#        \"KimStrassel\", \n",
    "#        \"marklevinshow\", \n",
    "#        \"brad_polumbo\", \n",
    "#        \"EliseStefanik\", \n",
    "#        \"kayleighmcenany\", \n",
    "#        \"RealRLimbaugh\", \n",
    "        \"GOPChairwoman\",\n",
    "        \"SteveGuest\", \n",
    "        \"AlexMarlow\", \n",
    "        \"TianaTheFirst\"]\n",
    "    polarity = input(\"Lib/Con?\").lower()\n",
    "    save_tweets(user_list, polarity)\n",
    "main()"
   ]
  },
  {
   "cell_type": "code",
   "execution_count": 6,
   "metadata": {},
   "outputs": [],
   "source": [
    "from os import listdir\n",
    "import pandas as pd\n",
    "\n",
    "\n",
    "def big_json(small_path, big_path, file_name):\n",
    "    big_frame = pd.DataFrame(columns = [\"Tweet_ID\", \"Text\", \"Date\", \"User\"])\n",
    "    # This line is stolen! I kept getting a permission error using listdir. Apparently this is the most pythonic? - Google Stack Overflow 3207219 for reference\n",
    "    files = (_, _, filenames) = next(os.walk(small_path))\n",
    "\n",
    "    for file in files[2]:\n",
    "        big_frame = big_frame.append(pd.read_json(f\"{small_path}/{file}\", orient=\"records\"))\n",
    "\n",
    "    big_frame.reset_index(inplace=True, drop=True)\n",
    "    big_frame.to_json(path_or_buf=big_path, orient=\"records\", force_ascii=True)\n",
    "\n",
    "def main():\n",
    "    file_name = \"cons_big\"\n",
    "    big_path = f\"./ScrapedTweets/Compiled/{file_name}.json\"\n",
    "    small_path = \"./ScrapedTweets/Cons\"\n",
    "    big_json(small_path, big_path, file_name)\n",
    "main()"
   ]
  },
  {
   "source": [
    "## 2. Create Training Set"
   ],
   "cell_type": "markdown",
   "metadata": {}
  },
  {
   "cell_type": "code",
   "execution_count": null,
   "metadata": {},
   "outputs": [],
   "source": []
  },
  {
   "source": [
    "## Plotting with BokehJS"
   ],
   "cell_type": "markdown",
   "metadata": {}
  },
  {
   "cell_type": "code",
   "execution_count": 7,
   "metadata": {},
   "outputs": [
    {
     "output_type": "display_data",
     "data": {
      "text/html": "\n\n\n\n\n\n  <div class=\"bk-root\" id=\"5b77ab80-3513-47b7-871e-ddce00718491\" data-root-id=\"1154\"></div>\n"
     },
     "metadata": {}
    },
    {
     "output_type": "display_data",
     "data": {
      "application/javascript": "(function(root) {\n  function embed_document(root) {\n    \n  var docs_json = {\"902488a8-ea33-4b25-ae64-8a19c4f16ad8\":{\"roots\":{\"references\":[{\"attributes\":{\"below\":[{\"id\":\"1165\"}],\"center\":[{\"id\":\"1168\"},{\"id\":\"1172\"},{\"id\":\"1201\"},{\"id\":\"1203\"},{\"id\":\"1204\"},{\"id\":\"1205\"},{\"id\":\"1206\"},{\"id\":\"1207\"},{\"id\":\"1208\"}],\"left\":[{\"id\":\"1169\"}],\"plot_height\":480,\"plot_width\":720,\"renderers\":[{\"id\":\"1191\"}],\"title\":{\"id\":\"1155\"},\"toolbar\":{\"id\":\"1180\"},\"x_range\":{\"id\":\"1157\"},\"x_scale\":{\"id\":\"1161\"},\"y_range\":{\"id\":\"1159\"},\"y_scale\":{\"id\":\"1163\"}},\"id\":\"1154\",\"subtype\":\"Figure\",\"type\":\"Plot\"},{\"attributes\":{\"overlay\":{\"id\":\"1179\"}},\"id\":\"1175\",\"type\":\"BoxZoomTool\"},{\"attributes\":{},\"id\":\"1176\",\"type\":\"SaveTool\"},{\"attributes\":{\"active_drag\":\"auto\",\"active_inspect\":\"auto\",\"active_multi\":null,\"active_scroll\":\"auto\",\"active_tap\":\"auto\",\"tools\":[{\"id\":\"1173\"},{\"id\":\"1174\"},{\"id\":\"1175\"},{\"id\":\"1176\"},{\"id\":\"1177\"},{\"id\":\"1178\"}]},\"id\":\"1180\",\"type\":\"Toolbar\"},{\"attributes\":{},\"id\":\"1199\",\"type\":\"UnionRenderers\"},{\"attributes\":{},\"id\":\"1163\",\"type\":\"LinearScale\"},{\"attributes\":{},\"id\":\"1173\",\"type\":\"PanTool\"},{\"attributes\":{\"line_alpha\":0.1,\"line_color\":\"#1f77b4\",\"line_width\":2,\"x\":{\"field\":\"x\"},\"y\":{\"field\":\"y\"}},\"id\":\"1190\",\"type\":\"Line\"},{\"attributes\":{},\"id\":\"1197\",\"type\":\"BasicTickFormatter\"},{\"attributes\":{\"label\":{\"value\":\"Hypothetical Trend\"},\"renderers\":[{\"id\":\"1191\"}]},\"id\":\"1202\",\"type\":\"LegendItem\"},{\"attributes\":{},\"id\":\"1177\",\"type\":\"ResetTool\"},{\"attributes\":{\"dimension\":\"height\",\"line_color\":\"darkslategray\",\"line_dash\":[6],\"line_width\":2,\"location\":0},\"id\":\"1203\",\"type\":\"Span\"},{\"attributes\":{\"start\":-1},\"id\":\"1159\",\"type\":\"Range1d\"},{\"attributes\":{},\"id\":\"1174\",\"type\":\"WheelZoomTool\"},{\"attributes\":{\"line_alpha\":0.5,\"line_color\":\"#1f77b4\",\"line_width\":2,\"x\":{\"field\":\"x\"},\"y\":{\"field\":\"y\"}},\"id\":\"1189\",\"type\":\"Line\"},{\"attributes\":{\"text\":\"Sentiment of Tweets About 'Term' and Partisan Leanings\",\"text_font_size\":{\"value\":\"18px\"}},\"id\":\"1155\",\"type\":\"Title\"},{\"attributes\":{},\"id\":\"1198\",\"type\":\"Selection\"},{\"attributes\":{},\"id\":\"1170\",\"type\":\"BasicTicker\"},{\"attributes\":{},\"id\":\"1195\",\"type\":\"BasicTickFormatter\"},{\"attributes\":{\"axis\":{\"id\":\"1169\"},\"dimension\":1,\"grid_line_width\":0,\"ticker\":null},\"id\":\"1172\",\"type\":\"Grid\"},{\"attributes\":{\"axis_label\":\"Sentiment\",\"axis_line_width\":0,\"formatter\":{\"id\":\"1197\"},\"minor_tick_line_color\":null,\"ticker\":{\"id\":\"1170\"}},\"id\":\"1169\",\"type\":\"LinearAxis\"},{\"attributes\":{\"source\":{\"id\":\"1187\"}},\"id\":\"1192\",\"type\":\"CDSView\"},{\"attributes\":{\"data\":{\"index\":[0,1,2,3,4,5,6,7,8,9,10,11,12,13,14,15,16,17,18,19,20,21,22,23,24,25,26,27,28,29,30,31,32,33,34,35,36,37,38,39,40,41,42,43,44,45,46,47,48,49,50,51,52,53,54,55,56,57,58,59,60,61,62,63,64,65,66,67,68,69,70,71,72,73,74,75,76,77,78,79,80,81,82,83,84,85,86,87,88,89,90,91,92,93,94,95,96,97,98,99],\"x\":{\"__ndarray__\":\"AAAAAAAAGMCEDz744IMXwAgffPDBBxfAjC666KKLFsAQPvjggw8WwJNNNtlkkxXAF1100UUXFcCbbLLJJpsUwB988MEHHxTAo4suuuiiE8Anm2yyySYTwKqqqqqqqhLALrrooosuEsCyySabbLIRwDbZZJNNNhHAuuiiiy66EMA++OCDDz4QwIQPPvjggw/AjC666KKLDsCTTTbZZJMNwJtssskmmwzAo4suuuiiC8CqqqqqqqoKwLLJJptssgnAuuiiiy66CMDCBx988MEHwMomm2yyyQbA0UUXXXTRBcDZZJNNNtkEwOGDDz744APA6KKLLrroAsDwwQcffPABwPjggw8++ADAAAAAAAAAAMAQPvjggw/+vyB88MEHH/y/MLrooosu+r88+OCDDz74v0w22WSTTfa/XHTRRRdd9L9ssskmm2zyv3zwwQcffPC/GF100UUX7b842WSTTTbpv1BVVVVVVeW/cNFFF1104b8gm2yyySbbv2CTTTbZZNO/QBdddNFFx78AH3zwwQevvwAffPDBB68/QBdddNFFxz9gk0022WTTPzCbbLLJJts/eNFFF1104T9YVVVVVVXlPzjZZJNNNuk/GF100UUX7T988MEHH3zwP2yyySabbPI/YHTRRRdd9D9QNtlkk032P0D44IMPPvg/MLrooosu+j8gfPDBBx/8PxA++OCDD/4/AAAAAAAAAED44IMPPvgAQPDBBx988AFA6KKLLrroAkDggw8++OADQNhkk0022QRA0EUXXXTRBUDMJptssskGQMQHH3zwwQdAvOiiiy66CEC0ySabbLIJQKyqqqqqqgpApIsuuuiiC0CcbLLJJpsMQJRNNtlkkw1AjC666KKLDkCEDz744IMPQD744IMPPhBAuuiiiy66EEA22WSTTTYRQLLJJptsshFALrrooosuEkCsqqqqqqoSQCibbLLJJhNApIsuuuiiE0AgfPDBBx8UQJxssskmmxRAGF100UUXFUCUTTbZZJMVQBA++OCDDxZAjC666KKLFkAIH3zwwQcXQIQPPvjggxdAAAAAAAAAGEA=\",\"dtype\":\"float64\",\"order\":\"little\",\"shape\":[100]},\"y\":{\"__ndarray__\":\"aBCM6P//779lRuta8/vvv5a4qGWn7++/FM6FNB/b77/i8ugSYL7vv4UUgGpxme+/jkhXwVxs779CG2S3LTfvv40ohgPy+e6/FcX9b7m07r/woFnWlWfuv7lw3BqbEu6/68xbJ9+17b8XmpnleVHtvwFvGTmF5ey/to9z+Bxy7L9INifmXvfrvxoD7qhqdeu/WI+Sw2Hs6r9TPEyMZ1zqv1F6oiOhxem/Q+DZajUo6b9ojO35TITov8VjFxUS2ue/YOPpobAp57/KUv4bVnPmvz9DOokxt+W/iWGvbXP15L8suxi/TS7kv7Sw+NfzYeO/pOdaapqQ4r8mpj1yd7rhv5YZpifC3+C/zh5j8LIA4L94cASjBjvev5Hj9MDbbNy/ZgsiaFyX2r9XT/epAbvYvxjZiFxG2Na/L6rm+qbv1L+5IgOFoQHTv09ANV+1DtG/8eu9YsYuzr+PK4CLWTjKv0y0/M4pO8a/sGDWgT44wr+42T/mQGG8vzi5JVCzSrS/05vZXdRdqL91vkAm8z+Qv3W+QCbzP5A/05vZXdRdqD84uSVQs0q0P8jZP+ZAYbw/uGDWgT44wj9UtPzOKTvGP48rgItZOMo/8eu9YsYuzj9PQDVftQ7RP7kiA4WhAdM/M6rm+qbv1D8c2YhcRtjWP1tP96kBu9g/ZgsiaFyX2j+R4/TA22zcP3hwBKMGO94/zh5j8LIA4D+WGaYnwt/gPyamPXJ3uuE/pOdaapqQ4j+0sPjX82HjPyu7GL9NLuQ/iGGvbXP15D9BQzqJMbflP8xS/htWc+Y/YuPpobAp5z/IYxcVEtrnP2mM7flMhOg/Q+DZajUo6T9SeqIjocXpP1M8TIxnXOo/WI+Sw2Hs6j8aA+6oanXrP0g2J+Ze9+s/to9z+Bxy7D8Bbxk5heXsPxeameV5Ue0/68xbJ9+17T+6cNwamxLuP/GgWdaVZ+4/FsX9b7m07j+NKIYD8vnuP0MbZLctN+8/jkhXwVxs7z+FFIBqcZnvP+Ly6BJgvu8/FM6FNB/b7z+WuKhlp+/vP2VG61rz++8/aBCM6P//7z8=\",\"dtype\":\"float64\",\"order\":\"little\",\"shape\":[100]}},\"selected\":{\"id\":\"1198\"},\"selection_policy\":{\"id\":\"1199\"}},\"id\":\"1187\",\"type\":\"ColumnDataSource\"},{\"attributes\":{\"axis_label\":\"Partisan Leanings (Anecdotally)\",\"axis_line_width\":0,\"formatter\":{\"id\":\"1195\"},\"minor_tick_line_color\":null,\"ticker\":{\"id\":\"1166\"}},\"id\":\"1165\",\"type\":\"LinearAxis\"},{\"attributes\":{\"axis\":{\"id\":\"1165\"},\"grid_line_width\":0,\"ticker\":null},\"id\":\"1168\",\"type\":\"Grid\"},{\"attributes\":{},\"id\":\"1161\",\"type\":\"LinearScale\"},{\"attributes\":{\"dimension\":\"height\",\"line_color\":\"darkslategray\",\"line_width\":0.5,\"location\":4},\"id\":\"1208\",\"type\":\"Span\"},{\"attributes\":{\"bottom_units\":\"screen\",\"fill_alpha\":0.5,\"fill_color\":\"lightgrey\",\"left_units\":\"screen\",\"level\":\"overlay\",\"line_alpha\":1.0,\"line_color\":\"black\",\"line_dash\":[4,4],\"line_width\":2,\"right_units\":\"screen\",\"top_units\":\"screen\"},\"id\":\"1179\",\"type\":\"BoxAnnotation\"},{\"attributes\":{},\"id\":\"1166\",\"type\":\"BasicTicker\"},{\"attributes\":{\"dimension\":\"height\",\"line_color\":\"darkslategray\",\"line_width\":0.5,\"location\":-2},\"id\":\"1205\",\"type\":\"Span\"},{\"attributes\":{\"end\":6,\"start\":-6},\"id\":\"1157\",\"type\":\"Range1d\"},{\"attributes\":{},\"id\":\"1178\",\"type\":\"HelpTool\"},{\"attributes\":{\"dimension\":\"height\",\"line_color\":\"darkslategray\",\"line_width\":0.5,\"location\":2},\"id\":\"1207\",\"type\":\"Span\"},{\"attributes\":{\"data_source\":{\"id\":\"1187\"},\"glyph\":{\"id\":\"1189\"},\"hover_glyph\":null,\"muted_glyph\":null,\"nonselection_glyph\":{\"id\":\"1190\"},\"selection_glyph\":null,\"view\":{\"id\":\"1192\"}},\"id\":\"1191\",\"type\":\"GlyphRenderer\"},{\"attributes\":{\"click_policy\":\"hide\",\"items\":[{\"id\":\"1202\"}],\"location\":\"top_left\"},\"id\":\"1201\",\"type\":\"Legend\"},{\"attributes\":{\"line_color\":\"darkslategray\",\"line_dash\":[6],\"line_width\":2,\"location\":0},\"id\":\"1204\",\"type\":\"Span\"},{\"attributes\":{\"dimension\":\"height\",\"line_color\":\"darkslategray\",\"line_width\":0.5,\"location\":-4},\"id\":\"1206\",\"type\":\"Span\"}],\"root_ids\":[\"1154\"]},\"title\":\"Bokeh Application\",\"version\":\"2.1.1\"}};\n  var render_items = [{\"docid\":\"902488a8-ea33-4b25-ae64-8a19c4f16ad8\",\"root_ids\":[\"1154\"],\"roots\":{\"1154\":\"5b77ab80-3513-47b7-871e-ddce00718491\"}}];\n  root.Bokeh.embed.embed_items_notebook(docs_json, render_items);\n\n  }\n  if (root.Bokeh !== undefined) {\n    embed_document(root);\n  } else {\n    var attempts = 0;\n    var timer = setInterval(function(root) {\n      if (root.Bokeh !== undefined) {\n        clearInterval(timer);\n        embed_document(root);\n      } else {\n        attempts++;\n        if (attempts > 100) {\n          clearInterval(timer);\n          console.log(\"Bokeh: ERROR: Unable to run BokehJS code because BokehJS library is missing\");\n        }\n      }\n    }, 10, root)\n  }\n})(window);",
      "application/vnd.bokehjs_exec.v0+json": ""
     },
     "metadata": {
      "application/vnd.bokehjs_exec.v0+json": {
       "id": "1154"
      }
     }
    },
    {
     "output_type": "display_data",
     "data": {
      "text/html": "\n    <div class=\"bk-root\">\n        <a href=\"https://bokeh.org\" target=\"_blank\" class=\"bk-logo bk-logo-small bk-logo-notebook\"></a>\n        <span id=\"1265\">Loading BokehJS ...</span>\n    </div>"
     },
     "metadata": {}
    },
    {
     "output_type": "display_data",
     "data": {
      "application/javascript": "\n(function(root) {\n  function now() {\n    return new Date();\n  }\n\n  var force = true;\n\n  if (typeof root._bokeh_onload_callbacks === \"undefined\" || force === true) {\n    root._bokeh_onload_callbacks = [];\n    root._bokeh_is_loading = undefined;\n  }\n\n  var JS_MIME_TYPE = 'application/javascript';\n  var HTML_MIME_TYPE = 'text/html';\n  var EXEC_MIME_TYPE = 'application/vnd.bokehjs_exec.v0+json';\n  var CLASS_NAME = 'output_bokeh rendered_html';\n\n  /**\n   * Render data to the DOM node\n   */\n  function render(props, node) {\n    var script = document.createElement(\"script\");\n    node.appendChild(script);\n  }\n\n  /**\n   * Handle when an output is cleared or removed\n   */\n  function handleClearOutput(event, handle) {\n    var cell = handle.cell;\n\n    var id = cell.output_area._bokeh_element_id;\n    var server_id = cell.output_area._bokeh_server_id;\n    // Clean up Bokeh references\n    if (id != null && id in Bokeh.index) {\n      Bokeh.index[id].model.document.clear();\n      delete Bokeh.index[id];\n    }\n\n    if (server_id !== undefined) {\n      // Clean up Bokeh references\n      var cmd = \"from bokeh.io.state import curstate; print(curstate().uuid_to_server['\" + server_id + \"'].get_sessions()[0].document.roots[0]._id)\";\n      cell.notebook.kernel.execute(cmd, {\n        iopub: {\n          output: function(msg) {\n            var id = msg.content.text.trim();\n            if (id in Bokeh.index) {\n              Bokeh.index[id].model.document.clear();\n              delete Bokeh.index[id];\n            }\n          }\n        }\n      });\n      // Destroy server and session\n      var cmd = \"import bokeh.io.notebook as ion; ion.destroy_server('\" + server_id + \"')\";\n      cell.notebook.kernel.execute(cmd);\n    }\n  }\n\n  /**\n   * Handle when a new output is added\n   */\n  function handleAddOutput(event, handle) {\n    var output_area = handle.output_area;\n    var output = handle.output;\n\n    // limit handleAddOutput to display_data with EXEC_MIME_TYPE content only\n    if ((output.output_type != \"display_data\") || (!output.data.hasOwnProperty(EXEC_MIME_TYPE))) {\n      return\n    }\n\n    var toinsert = output_area.element.find(\".\" + CLASS_NAME.split(' ')[0]);\n\n    if (output.metadata[EXEC_MIME_TYPE][\"id\"] !== undefined) {\n      toinsert[toinsert.length - 1].firstChild.textContent = output.data[JS_MIME_TYPE];\n      // store reference to embed id on output_area\n      output_area._bokeh_element_id = output.metadata[EXEC_MIME_TYPE][\"id\"];\n    }\n    if (output.metadata[EXEC_MIME_TYPE][\"server_id\"] !== undefined) {\n      var bk_div = document.createElement(\"div\");\n      bk_div.innerHTML = output.data[HTML_MIME_TYPE];\n      var script_attrs = bk_div.children[0].attributes;\n      for (var i = 0; i < script_attrs.length; i++) {\n        toinsert[toinsert.length - 1].firstChild.setAttribute(script_attrs[i].name, script_attrs[i].value);\n        toinsert[toinsert.length - 1].firstChild.textContent = bk_div.children[0].textContent\n      }\n      // store reference to server id on output_area\n      output_area._bokeh_server_id = output.metadata[EXEC_MIME_TYPE][\"server_id\"];\n    }\n  }\n\n  function register_renderer(events, OutputArea) {\n\n    function append_mime(data, metadata, element) {\n      // create a DOM node to render to\n      var toinsert = this.create_output_subarea(\n        metadata,\n        CLASS_NAME,\n        EXEC_MIME_TYPE\n      );\n      this.keyboard_manager.register_events(toinsert);\n      // Render to node\n      var props = {data: data, metadata: metadata[EXEC_MIME_TYPE]};\n      render(props, toinsert[toinsert.length - 1]);\n      element.append(toinsert);\n      return toinsert\n    }\n\n    /* Handle when an output is cleared or removed */\n    events.on('clear_output.CodeCell', handleClearOutput);\n    events.on('delete.Cell', handleClearOutput);\n\n    /* Handle when a new output is added */\n    events.on('output_added.OutputArea', handleAddOutput);\n\n    /**\n     * Register the mime type and append_mime function with output_area\n     */\n    OutputArea.prototype.register_mime_type(EXEC_MIME_TYPE, append_mime, {\n      /* Is output safe? */\n      safe: true,\n      /* Index of renderer in `output_area.display_order` */\n      index: 0\n    });\n  }\n\n  // register the mime type if in Jupyter Notebook environment and previously unregistered\n  if (root.Jupyter !== undefined) {\n    var events = require('base/js/events');\n    var OutputArea = require('notebook/js/outputarea').OutputArea;\n\n    if (OutputArea.prototype.mime_types().indexOf(EXEC_MIME_TYPE) == -1) {\n      register_renderer(events, OutputArea);\n    }\n  }\n\n  \n  if (typeof (root._bokeh_timeout) === \"undefined\" || force === true) {\n    root._bokeh_timeout = Date.now() + 5000;\n    root._bokeh_failed_load = false;\n  }\n\n  var NB_LOAD_WARNING = {'data': {'text/html':\n     \"<div style='background-color: #fdd'>\\n\"+\n     \"<p>\\n\"+\n     \"BokehJS does not appear to have successfully loaded. If loading BokehJS from CDN, this \\n\"+\n     \"may be due to a slow or bad network connection. Possible fixes:\\n\"+\n     \"</p>\\n\"+\n     \"<ul>\\n\"+\n     \"<li>re-rerun `output_notebook()` to attempt to load from CDN again, or</li>\\n\"+\n     \"<li>use INLINE resources instead, as so:</li>\\n\"+\n     \"</ul>\\n\"+\n     \"<code>\\n\"+\n     \"from bokeh.resources import INLINE\\n\"+\n     \"output_notebook(resources=INLINE)\\n\"+\n     \"</code>\\n\"+\n     \"</div>\"}};\n\n  function display_loaded() {\n    var el = document.getElementById(\"1265\");\n    if (el != null) {\n      el.textContent = \"BokehJS is loading...\";\n    }\n    if (root.Bokeh !== undefined) {\n      if (el != null) {\n        el.textContent = \"BokehJS \" + root.Bokeh.version + \" successfully loaded.\";\n      }\n    } else if (Date.now() < root._bokeh_timeout) {\n      setTimeout(display_loaded, 100)\n    }\n  }\n\n\n  function run_callbacks() {\n    try {\n      root._bokeh_onload_callbacks.forEach(function(callback) {\n        if (callback != null)\n          callback();\n      });\n    } finally {\n      delete root._bokeh_onload_callbacks\n    }\n    console.debug(\"Bokeh: all callbacks have finished\");\n  }\n\n  function load_libs(css_urls, js_urls, callback) {\n    if (css_urls == null) css_urls = [];\n    if (js_urls == null) js_urls = [];\n\n    root._bokeh_onload_callbacks.push(callback);\n    if (root._bokeh_is_loading > 0) {\n      console.debug(\"Bokeh: BokehJS is being loaded, scheduling callback at\", now());\n      return null;\n    }\n    if (js_urls == null || js_urls.length === 0) {\n      run_callbacks();\n      return null;\n    }\n    console.debug(\"Bokeh: BokehJS not loaded, scheduling load and callback at\", now());\n    root._bokeh_is_loading = css_urls.length + js_urls.length;\n\n    function on_load() {\n      root._bokeh_is_loading--;\n      if (root._bokeh_is_loading === 0) {\n        console.debug(\"Bokeh: all BokehJS libraries/stylesheets loaded\");\n        run_callbacks()\n      }\n    }\n\n    function on_error() {\n      console.error(\"failed to load \" + url);\n    }\n\n    for (var i = 0; i < css_urls.length; i++) {\n      var url = css_urls[i];\n      const element = document.createElement(\"link\");\n      element.onload = on_load;\n      element.onerror = on_error;\n      element.rel = \"stylesheet\";\n      element.type = \"text/css\";\n      element.href = url;\n      console.debug(\"Bokeh: injecting link tag for BokehJS stylesheet: \", url);\n      document.body.appendChild(element);\n    }\n\n    const hashes = {\"https://cdn.bokeh.org/bokeh/release/bokeh-2.1.1.min.js\": \"kLr4fYcqcSpbuI95brIH3vnnYCquzzSxHPU6XGQCIkQRGJwhg0StNbj1eegrHs12\", \"https://cdn.bokeh.org/bokeh/release/bokeh-widgets-2.1.1.min.js\": \"xIGPmVtaOm+z0BqfSOMn4lOR6ciex448GIKG4eE61LsAvmGj48XcMQZtKcE/UXZe\", \"https://cdn.bokeh.org/bokeh/release/bokeh-tables-2.1.1.min.js\": \"Dc9u1wF/0zApGIWoBbH77iWEHtdmkuYWG839Uzmv8y8yBLXebjO9ZnERsde5Ln/P\", \"https://cdn.bokeh.org/bokeh/release/bokeh-gl-2.1.1.min.js\": \"cT9JaBz7GiRXdENrJLZNSC6eMNF3nh3fa5fTF51Svp+ukxPdwcU5kGXGPBgDCa2j\"};\n\n    for (var i = 0; i < js_urls.length; i++) {\n      var url = js_urls[i];\n      var element = document.createElement('script');\n      element.onload = on_load;\n      element.onerror = on_error;\n      element.async = false;\n      element.src = url;\n      if (url in hashes) {\n        element.crossOrigin = \"anonymous\";\n        element.integrity = \"sha384-\" + hashes[url];\n      }\n      console.debug(\"Bokeh: injecting script tag for BokehJS library: \", url);\n      document.head.appendChild(element);\n    }\n  };\n\n  function inject_raw_css(css) {\n    const element = document.createElement(\"style\");\n    element.appendChild(document.createTextNode(css));\n    document.body.appendChild(element);\n  }\n\n  \n  var js_urls = [\"https://cdn.bokeh.org/bokeh/release/bokeh-2.1.1.min.js\", \"https://cdn.bokeh.org/bokeh/release/bokeh-widgets-2.1.1.min.js\", \"https://cdn.bokeh.org/bokeh/release/bokeh-tables-2.1.1.min.js\", \"https://cdn.bokeh.org/bokeh/release/bokeh-gl-2.1.1.min.js\"];\n  var css_urls = [];\n  \n\n  var inline_js = [\n    function(Bokeh) {\n      Bokeh.set_log_level(\"info\");\n    },\n    function(Bokeh) {\n    \n    \n    }\n  ];\n\n  function run_inline_js() {\n    \n    if (root.Bokeh !== undefined || force === true) {\n      \n    for (var i = 0; i < inline_js.length; i++) {\n      inline_js[i].call(root, root.Bokeh);\n    }\n    if (force === true) {\n        display_loaded();\n      }} else if (Date.now() < root._bokeh_timeout) {\n      setTimeout(run_inline_js, 100);\n    } else if (!root._bokeh_failed_load) {\n      console.log(\"Bokeh: BokehJS failed to load within specified timeout.\");\n      root._bokeh_failed_load = true;\n    } else if (force !== true) {\n      var cell = $(document.getElementById(\"1265\")).parents('.cell').data().cell;\n      cell.output_area.append_execute_result(NB_LOAD_WARNING)\n    }\n\n  }\n\n  if (root._bokeh_is_loading === 0) {\n    console.debug(\"Bokeh: BokehJS loaded, going straight to plotting\");\n    run_inline_js();\n  } else {\n    load_libs(css_urls, js_urls, function() {\n      console.debug(\"Bokeh: BokehJS plotting callback run at\", now());\n      run_inline_js();\n    });\n  }\n}(window));",
      "application/vnd.bokehjs_load.v0+json": "\n(function(root) {\n  function now() {\n    return new Date();\n  }\n\n  var force = true;\n\n  if (typeof root._bokeh_onload_callbacks === \"undefined\" || force === true) {\n    root._bokeh_onload_callbacks = [];\n    root._bokeh_is_loading = undefined;\n  }\n\n  \n\n  \n  if (typeof (root._bokeh_timeout) === \"undefined\" || force === true) {\n    root._bokeh_timeout = Date.now() + 5000;\n    root._bokeh_failed_load = false;\n  }\n\n  var NB_LOAD_WARNING = {'data': {'text/html':\n     \"<div style='background-color: #fdd'>\\n\"+\n     \"<p>\\n\"+\n     \"BokehJS does not appear to have successfully loaded. If loading BokehJS from CDN, this \\n\"+\n     \"may be due to a slow or bad network connection. Possible fixes:\\n\"+\n     \"</p>\\n\"+\n     \"<ul>\\n\"+\n     \"<li>re-rerun `output_notebook()` to attempt to load from CDN again, or</li>\\n\"+\n     \"<li>use INLINE resources instead, as so:</li>\\n\"+\n     \"</ul>\\n\"+\n     \"<code>\\n\"+\n     \"from bokeh.resources import INLINE\\n\"+\n     \"output_notebook(resources=INLINE)\\n\"+\n     \"</code>\\n\"+\n     \"</div>\"}};\n\n  function display_loaded() {\n    var el = document.getElementById(\"1265\");\n    if (el != null) {\n      el.textContent = \"BokehJS is loading...\";\n    }\n    if (root.Bokeh !== undefined) {\n      if (el != null) {\n        el.textContent = \"BokehJS \" + root.Bokeh.version + \" successfully loaded.\";\n      }\n    } else if (Date.now() < root._bokeh_timeout) {\n      setTimeout(display_loaded, 100)\n    }\n  }\n\n\n  function run_callbacks() {\n    try {\n      root._bokeh_onload_callbacks.forEach(function(callback) {\n        if (callback != null)\n          callback();\n      });\n    } finally {\n      delete root._bokeh_onload_callbacks\n    }\n    console.debug(\"Bokeh: all callbacks have finished\");\n  }\n\n  function load_libs(css_urls, js_urls, callback) {\n    if (css_urls == null) css_urls = [];\n    if (js_urls == null) js_urls = [];\n\n    root._bokeh_onload_callbacks.push(callback);\n    if (root._bokeh_is_loading > 0) {\n      console.debug(\"Bokeh: BokehJS is being loaded, scheduling callback at\", now());\n      return null;\n    }\n    if (js_urls == null || js_urls.length === 0) {\n      run_callbacks();\n      return null;\n    }\n    console.debug(\"Bokeh: BokehJS not loaded, scheduling load and callback at\", now());\n    root._bokeh_is_loading = css_urls.length + js_urls.length;\n\n    function on_load() {\n      root._bokeh_is_loading--;\n      if (root._bokeh_is_loading === 0) {\n        console.debug(\"Bokeh: all BokehJS libraries/stylesheets loaded\");\n        run_callbacks()\n      }\n    }\n\n    function on_error() {\n      console.error(\"failed to load \" + url);\n    }\n\n    for (var i = 0; i < css_urls.length; i++) {\n      var url = css_urls[i];\n      const element = document.createElement(\"link\");\n      element.onload = on_load;\n      element.onerror = on_error;\n      element.rel = \"stylesheet\";\n      element.type = \"text/css\";\n      element.href = url;\n      console.debug(\"Bokeh: injecting link tag for BokehJS stylesheet: \", url);\n      document.body.appendChild(element);\n    }\n\n    const hashes = {\"https://cdn.bokeh.org/bokeh/release/bokeh-2.1.1.min.js\": \"kLr4fYcqcSpbuI95brIH3vnnYCquzzSxHPU6XGQCIkQRGJwhg0StNbj1eegrHs12\", \"https://cdn.bokeh.org/bokeh/release/bokeh-widgets-2.1.1.min.js\": \"xIGPmVtaOm+z0BqfSOMn4lOR6ciex448GIKG4eE61LsAvmGj48XcMQZtKcE/UXZe\", \"https://cdn.bokeh.org/bokeh/release/bokeh-tables-2.1.1.min.js\": \"Dc9u1wF/0zApGIWoBbH77iWEHtdmkuYWG839Uzmv8y8yBLXebjO9ZnERsde5Ln/P\", \"https://cdn.bokeh.org/bokeh/release/bokeh-gl-2.1.1.min.js\": \"cT9JaBz7GiRXdENrJLZNSC6eMNF3nh3fa5fTF51Svp+ukxPdwcU5kGXGPBgDCa2j\"};\n\n    for (var i = 0; i < js_urls.length; i++) {\n      var url = js_urls[i];\n      var element = document.createElement('script');\n      element.onload = on_load;\n      element.onerror = on_error;\n      element.async = false;\n      element.src = url;\n      if (url in hashes) {\n        element.crossOrigin = \"anonymous\";\n        element.integrity = \"sha384-\" + hashes[url];\n      }\n      console.debug(\"Bokeh: injecting script tag for BokehJS library: \", url);\n      document.head.appendChild(element);\n    }\n  };\n\n  function inject_raw_css(css) {\n    const element = document.createElement(\"style\");\n    element.appendChild(document.createTextNode(css));\n    document.body.appendChild(element);\n  }\n\n  \n  var js_urls = [\"https://cdn.bokeh.org/bokeh/release/bokeh-2.1.1.min.js\", \"https://cdn.bokeh.org/bokeh/release/bokeh-widgets-2.1.1.min.js\", \"https://cdn.bokeh.org/bokeh/release/bokeh-tables-2.1.1.min.js\", \"https://cdn.bokeh.org/bokeh/release/bokeh-gl-2.1.1.min.js\"];\n  var css_urls = [];\n  \n\n  var inline_js = [\n    function(Bokeh) {\n      Bokeh.set_log_level(\"info\");\n    },\n    function(Bokeh) {\n    \n    \n    }\n  ];\n\n  function run_inline_js() {\n    \n    if (root.Bokeh !== undefined || force === true) {\n      \n    for (var i = 0; i < inline_js.length; i++) {\n      inline_js[i].call(root, root.Bokeh);\n    }\n    if (force === true) {\n        display_loaded();\n      }} else if (Date.now() < root._bokeh_timeout) {\n      setTimeout(run_inline_js, 100);\n    } else if (!root._bokeh_failed_load) {\n      console.log(\"Bokeh: BokehJS failed to load within specified timeout.\");\n      root._bokeh_failed_load = true;\n    } else if (force !== true) {\n      var cell = $(document.getElementById(\"1265\")).parents('.cell').data().cell;\n      cell.output_area.append_execute_result(NB_LOAD_WARNING)\n    }\n\n  }\n\n  if (root._bokeh_is_loading === 0) {\n    console.debug(\"Bokeh: BokehJS loaded, going straight to plotting\");\n    run_inline_js();\n  } else {\n    load_libs(css_urls, js_urls, function() {\n      console.debug(\"Bokeh: BokehJS plotting callback run at\", now());\n      run_inline_js();\n    });\n  }\n}(window));"
     },
     "metadata": {}
    }
   ],
   "source": [
    "import numpy as np\n",
    "import pandas as pd\n",
    "from bokeh.io import output_notebook, push_notebook, show\n",
    "from bokeh.models import ColumnDataSource, Span as span\n",
    "from bokeh.plotting import figure\n",
    "from bokeh.models import Legend, LegendItem\n",
    "\n",
    "\n",
    "def hyp_line(inv):\n",
    "    \"\"\"Create a line to model the hypothetical trend, based off of nothing really\"\"\"\n",
    "    # Create x values with random decimals within range, reshape too\n",
    "    x = np.linspace(-6,6,100).reshape(100, 1)\n",
    "    \n",
    "    # Check inverse flag (For a search favorable for conservatives, the sin function would be reversed)\n",
    "    if inv == True:\n",
    "        # Create y variables using this function, reshape too\n",
    "        y = np.sin(-x/-3.819).reshape(100, 1)\n",
    "    else:\n",
    "        # Create y variables using this function, inverse though\n",
    "        y = np.sin(x/3.819).reshape(100, 1)\n",
    "        \n",
    "    # Create pandas data frame by combining arrays and assigning columns (combined array is not stored as new variable to save a line)\n",
    "    df = pd.DataFrame(data=np.concatenate((x,y), axis=1), columns=[\"x\", \"y\"])\n",
    "    \n",
    "    # Set source and create line variable\n",
    "    source = ColumnDataSource(df)\n",
    "    line = p.line(x=\"x\", y=\"y\", source=source, line_width=2, line_alpha=.5, legend_label=\"Hypothetical Trend\")\n",
    "    \n",
    "    # Return line\n",
    "    return line\n",
    "\n",
    "def style_plot():\n",
    "    \"\"\"Style plot\"\"\"\n",
    "    # Create/show axes\n",
    "    y_axis = span(location=0,dimension='height', line_color=\"darkslategray\", line_dash='dashed', line_width=2)\n",
    "    x_axis = span(location=0,dimension='width', line_color=\"darkslategray\", line_dash='dashed', line_width=2)\n",
    "    p.add_layout(y_axis)\n",
    "    p.add_layout(x_axis)\n",
    "    \n",
    "    # Create/show polarity axes\n",
    "    con_1 = span(location=-2, dimension=\"height\", line_color=\"darkslategray\", line_dash=\"solid\", line_width=.5)\n",
    "    con_2 = span(location=-4, dimension=\"height\", line_color=\"darkslategray\", line_dash=\"solid\", line_width=.5)\n",
    "    lib_1 = span(location=2, dimension=\"height\", line_color=\"darkslategray\", line_dash=\"solid\", line_width=.5)\n",
    "    lib_2 = span(location=4, dimension=\"height\", line_color=\"darkslategray\", line_dash=\"solid\", line_width=.5)\n",
    "    p.add_layout(con_1)\n",
    "    p.add_layout(con_2)\n",
    "    p.add_layout(lib_1)\n",
    "    p.add_layout(lib_2)\n",
    "    \n",
    "    # Hide normal axes/ticks\n",
    "    p.xaxis.axis_line_width = 0\n",
    "    p.yaxis.axis_line_width = 0\n",
    "    p.xgrid.grid_line_width = 0\n",
    "    p.ygrid.grid_line_width = 0\n",
    "    p.xaxis.minor_tick_line_color = None\n",
    "    p.yaxis.minor_tick_line_color = None\n",
    "    \n",
    "    # Labels\n",
    "    p.xaxis.axis_label = \"Partisan Leanings (Anecdotally)\"\n",
    "    p.yaxis.axis_label = \"Sentiment\"   \n",
    "    p.title.text_font_size = \"18px\"\n",
    "\n",
    "    # Legend\n",
    "    p.legend.location = \"top_left\"\n",
    "    p.legend.click_policy=\"hide\"\n",
    "\n",
    "def show_notebook():\n",
    "    show(p)\n",
    "    output_notebook()\n",
    "    \n",
    "def create_plot(term):\n",
    "    \"\"\"Create global p to be used by all functions\"\"\"\n",
    "    global p\n",
    "    p = figure(plot_width=720, plot_height=480, x_range=(-6,6), y_range=(-1,1), title=f\"Sentiment of Tweets About '{term.capitalize()}' and Partisan Leanings\")\n",
    "    \n",
    "    \n",
    "def main():\n",
    "    term = \"Term\"\n",
    "    # Create plot\n",
    "    create_plot(term)\n",
    "    \n",
    "    # Objects to draw\n",
    "    hyp_line(inv=False)\n",
    "    \n",
    "    # Style plot and add legend\n",
    "    style_plot()\n",
    "    \n",
    "    #Show notebook \n",
    "    show_notebook()\n",
    "main()"
   ]
  }
 ],
 "metadata": {
  "kernelspec": {
   "name": "Python 3.8.3 64-bit (conda)",
   "display_name": "Python 3.8.3 64-bit (conda)",
   "metadata": {
    "interpreter": {
     "hash": "8341ef148d0a9ba1ecfd4bd4a2bbfdbff6b3642c1a8ac2784b9a8bcd8db1cceb"
    }
   }
  },
  "language_info": {
   "codemirror_mode": {
    "name": "ipython",
    "version": 3
   },
   "file_extension": ".py",
   "mimetype": "text/x-python",
   "name": "python",
   "nbconvert_exporter": "python",
   "pygments_lexer": "ipython3",
   "version": "3.8.3-final"
  }
 },
 "nbformat": 4,
 "nbformat_minor": 4
}